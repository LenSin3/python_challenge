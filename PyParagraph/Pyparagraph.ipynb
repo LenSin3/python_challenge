{
 "cells": [
  {
   "cell_type": "code",
   "execution_count": 10,
   "metadata": {},
   "outputs": [],
   "source": [
    "# Import dependencies\n",
    "import re\n",
    "import csv\n",
    "\n"
   ]
  },
  {
   "cell_type": "code",
   "execution_count": 11,
   "metadata": {},
   "outputs": [],
   "source": [
    "# Create file path\n",
    "file = 'paragraph_2.txt'"
   ]
  },
  {
   "cell_type": "code",
   "execution_count": 12,
   "metadata": {},
   "outputs": [],
   "source": [
    "# Open text file\n",
    "with open(file, 'r') as f:\n",
    "    text = f.read()\n",
    "    \n",
    "    # Split text files into sentences\n",
    "    sentence = re.split(\"[.!?]\", text)\n",
    "    \n",
    "    # Approximate Sentence Count \n",
    "    sentence_count = len(sentence)\n",
    "    \n",
    "    # Split text into words\n",
    "    words = text.split()\n",
    "    \n",
    "    # Approximate word count\n",
    "    words_count = len(words)\n",
    "    \n",
    "    # Approximate letter count\n",
    "    letter_count = len(text)\n",
    "    \n",
    "    # Approximate letter count per word\n",
    "    letter_count_word = sum([len(x) for x in words]) / len(words)\n",
    "    \n",
    "    # Average sentence length in words\n",
    "    avg_sentence_length = sum([len(x) for x in words]) / len(sentence)\n",
    "    \n",
    "    # Create a dictionary of the analysis\n",
    "    paragraph_solved = {'Approximate Word Count': words_count,\n",
    "                        'Approximate Sentence Count': sentence_count,\n",
    "                       'Approximate Letter Count (per word)': letter_count_word,\n",
    "                       'Average Sentence Length': avg_sentence_length }\n",
    "    \n",
    "# Write analysis in a text file\n",
    "\n",
    "with open('paragraph.txt', 'w') as text_file:\n",
    "    \n",
    "    print(paragraph_solved, file=text_file)\n",
    "    "
   ]
  }
 ],
 "metadata": {
  "kernelspec": {
   "display_name": "Python 3",
   "language": "python",
   "name": "python3"
  },
  "language_info": {
   "codemirror_mode": {
    "name": "ipython",
    "version": 3
   },
   "file_extension": ".py",
   "mimetype": "text/x-python",
   "name": "python",
   "nbconvert_exporter": "python",
   "pygments_lexer": "ipython3",
   "version": "3.6.10"
  }
 },
 "nbformat": 4,
 "nbformat_minor": 4
}
